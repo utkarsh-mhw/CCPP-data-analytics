{
 "cells": [
  {
   "cell_type": "code",
   "execution_count": 21,
   "metadata": {},
   "outputs": [],
   "source": [
    "# import libraries\n",
    "import numpy as np\n",
    "import pandas as pd\n",
    "from sklearn import preprocessing\n",
    "from sklearn.preprocessing import StandardScaler"
   ]
  },
  {
   "cell_type": "code",
   "execution_count": 22,
   "metadata": {},
   "outputs": [],
   "source": [
    "#  load train data\n",
    "data = np.genfromtxt('Downloads/0000000000002419_training_ccpp_x_y_train.csv', delimiter=',')\n",
    "X_train = data[:, 0:4]\n",
    "Y_train = data[:,4]"
   ]
  },
  {
   "cell_type": "code",
   "execution_count": 23,
   "metadata": {},
   "outputs": [],
   "source": [
    "# load test data\n",
    "X_test = np.genfromtxt('Downloads/0000000000002419_test_ccpp_x_test.csv', delimiter=',')"
   ]
  },
  {
   "cell_type": "code",
   "execution_count": 25,
   "metadata": {},
   "outputs": [
    {
     "data": {
      "text/plain": [
       "(9568, 4)"
      ]
     },
     "execution_count": 25,
     "metadata": {},
     "output_type": "execute_result"
    }
   ],
   "source": [
    "# for feature scaling\n",
    "temp = np.vstack((X_train ,X_test))\n",
    "temp.shape"
   ]
  },
  {
   "cell_type": "code",
   "execution_count": 26,
   "metadata": {},
   "outputs": [],
   "source": [
    "# feature scaling\n",
    "temp = preprocessing.scale(temp)"
   ]
  },
  {
   "cell_type": "code",
   "execution_count": 29,
   "metadata": {},
   "outputs": [
    {
     "data": {
      "text/plain": [
       "array([[-1.48565576, -1.25328692,  1.30857232,  0.7576299 ],\n",
       "       [ 0.28700279,  0.30645519,  0.66530935, -0.44994522],\n",
       "       [-0.40407908, -0.42383778, -0.28779757,  0.37337032],\n",
       "       ...,\n",
       "       [ 0.62650514,  0.93995287, -0.70204545,  1.27271583],\n",
       "       [ 0.5151269 , -0.90545341,  0.11803064, -0.54789374],\n",
       "       [ 0.28297707,  0.4693546 ,  0.95999788,  0.80489178]])"
      ]
     },
     "execution_count": 29,
     "metadata": {},
     "output_type": "execute_result"
    }
   ],
   "source": [
    "temp"
   ]
  },
  {
   "cell_type": "code",
   "execution_count": 30,
   "metadata": {},
   "outputs": [
    {
     "data": {
      "text/html": [
       "<div>\n",
       "<style scoped>\n",
       "    .dataframe tbody tr th:only-of-type {\n",
       "        vertical-align: middle;\n",
       "    }\n",
       "\n",
       "    .dataframe tbody tr th {\n",
       "        vertical-align: top;\n",
       "    }\n",
       "\n",
       "    .dataframe thead th {\n",
       "        text-align: right;\n",
       "    }\n",
       "</style>\n",
       "<table border=\"1\" class=\"dataframe\">\n",
       "  <thead>\n",
       "    <tr style=\"text-align: right;\">\n",
       "      <th></th>\n",
       "      <th>0</th>\n",
       "      <th>1</th>\n",
       "      <th>2</th>\n",
       "      <th>3</th>\n",
       "    </tr>\n",
       "  </thead>\n",
       "  <tbody>\n",
       "    <tr>\n",
       "      <td>0</td>\n",
       "      <td>-1.485656</td>\n",
       "      <td>-1.253287</td>\n",
       "      <td>1.308572</td>\n",
       "      <td>0.757630</td>\n",
       "    </tr>\n",
       "    <tr>\n",
       "      <td>1</td>\n",
       "      <td>0.287003</td>\n",
       "      <td>0.306455</td>\n",
       "      <td>0.665309</td>\n",
       "      <td>-0.449945</td>\n",
       "    </tr>\n",
       "    <tr>\n",
       "      <td>2</td>\n",
       "      <td>-0.404079</td>\n",
       "      <td>-0.423838</td>\n",
       "      <td>-0.287798</td>\n",
       "      <td>0.373370</td>\n",
       "    </tr>\n",
       "    <tr>\n",
       "      <td>3</td>\n",
       "      <td>1.573891</td>\n",
       "      <td>1.338938</td>\n",
       "      <td>-0.688574</td>\n",
       "      <td>-0.882837</td>\n",
       "    </tr>\n",
       "    <tr>\n",
       "      <td>4</td>\n",
       "      <td>-1.402458</td>\n",
       "      <td>-1.123440</td>\n",
       "      <td>0.638366</td>\n",
       "      <td>1.311758</td>\n",
       "    </tr>\n",
       "  </tbody>\n",
       "</table>\n",
       "</div>"
      ],
      "text/plain": [
       "          0         1         2         3\n",
       "0 -1.485656 -1.253287  1.308572  0.757630\n",
       "1  0.287003  0.306455  0.665309 -0.449945\n",
       "2 -0.404079 -0.423838 -0.287798  0.373370\n",
       "3  1.573891  1.338938 -0.688574 -0.882837\n",
       "4 -1.402458 -1.123440  0.638366  1.311758"
      ]
     },
     "execution_count": 30,
     "metadata": {},
     "output_type": "execute_result"
    }
   ],
   "source": [
    "df = pd.DataFrame(temp)\n",
    "df.head()"
   ]
  },
  {
   "cell_type": "code",
   "execution_count": 32,
   "metadata": {},
   "outputs": [],
   "source": [
    "# splt data\n",
    "X_train = df.iloc[0:7176,:].values\n",
    "X_test = df.iloc[7176:,:].values"
   ]
  },
  {
   "cell_type": "code",
   "execution_count": 36,
   "metadata": {},
   "outputs": [
    {
     "data": {
      "text/plain": [
       "((7176, 5), (7176, 9), (7176,), (2392, 9))"
      ]
     },
     "execution_count": 36,
     "metadata": {},
     "output_type": "execute_result"
    }
   ],
   "source": [
    "# data = np.genfromtxt('Downloads/0000000000002419_training_ccpp_x_y_train.csv', delimiter=',')\n",
    "# X_train = data[:, 0:4]\n",
    "# Y_train = data[:,4]\n",
    "\n",
    "columns = X_train.shape[1]\n",
    "\n",
    "# self pair\n",
    "for i in range(columns):\n",
    "    new_column = (X_train[:, i] * X_train[:, i]).reshape(-1,1)\n",
    "    X_train = np.append(X_train, new_column, axis=1)\n",
    "    \n",
    "\n",
    "ones = np.ones(X_train.shape[0]).reshape(-1, 1)\n",
    "X_train = np.append(X_train, ones, axis=1)\n",
    "\n",
    "# X_test = np.genfromtxt('Downloads/0000000000002419_test_ccpp_x_test.csv', delimiter=',')\n",
    "\n",
    "\n",
    "columns = X_test.shape[1]\n",
    "\n",
    "# self pair\n",
    "for i in range(columns):\n",
    "    new_column = (X_test[:, i] * X_test[:, i]).reshape(-1,1)\n",
    "    X_test = np.append(X_test, new_column, axis=1)\n",
    "\n",
    "test_ones = np.ones(X_test.shape[0]).reshape(-1, 1)\n",
    "X_test = np.append(X_test, test_ones, axis=1)\n",
    "\n",
    "\n",
    "data.shape, X_train.shape, Y_train.shape, X_test.shape"
   ]
  },
  {
   "cell_type": "code",
   "execution_count": 37,
   "metadata": {},
   "outputs": [
    {
     "data": {
      "text/html": [
       "<div>\n",
       "<style scoped>\n",
       "    .dataframe tbody tr th:only-of-type {\n",
       "        vertical-align: middle;\n",
       "    }\n",
       "\n",
       "    .dataframe tbody tr th {\n",
       "        vertical-align: top;\n",
       "    }\n",
       "\n",
       "    .dataframe thead th {\n",
       "        text-align: right;\n",
       "    }\n",
       "</style>\n",
       "<table border=\"1\" class=\"dataframe\">\n",
       "  <thead>\n",
       "    <tr style=\"text-align: right;\">\n",
       "      <th></th>\n",
       "      <th>0</th>\n",
       "      <th>1</th>\n",
       "      <th>2</th>\n",
       "      <th>3</th>\n",
       "      <th>4</th>\n",
       "      <th>5</th>\n",
       "      <th>6</th>\n",
       "      <th>7</th>\n",
       "      <th>8</th>\n",
       "    </tr>\n",
       "  </thead>\n",
       "  <tbody>\n",
       "    <tr>\n",
       "      <td>0</td>\n",
       "      <td>-1.485656</td>\n",
       "      <td>-1.253287</td>\n",
       "      <td>1.308572</td>\n",
       "      <td>0.757630</td>\n",
       "      <td>2.207173</td>\n",
       "      <td>1.570728</td>\n",
       "      <td>1.712362</td>\n",
       "      <td>0.574003</td>\n",
       "      <td>1.0</td>\n",
       "    </tr>\n",
       "    <tr>\n",
       "      <td>1</td>\n",
       "      <td>0.287003</td>\n",
       "      <td>0.306455</td>\n",
       "      <td>0.665309</td>\n",
       "      <td>-0.449945</td>\n",
       "      <td>0.082371</td>\n",
       "      <td>0.093915</td>\n",
       "      <td>0.442637</td>\n",
       "      <td>0.202451</td>\n",
       "      <td>1.0</td>\n",
       "    </tr>\n",
       "    <tr>\n",
       "      <td>2</td>\n",
       "      <td>-0.404079</td>\n",
       "      <td>-0.423838</td>\n",
       "      <td>-0.287798</td>\n",
       "      <td>0.373370</td>\n",
       "      <td>0.163280</td>\n",
       "      <td>0.179638</td>\n",
       "      <td>0.082827</td>\n",
       "      <td>0.139405</td>\n",
       "      <td>1.0</td>\n",
       "    </tr>\n",
       "    <tr>\n",
       "      <td>3</td>\n",
       "      <td>1.573891</td>\n",
       "      <td>1.338938</td>\n",
       "      <td>-0.688574</td>\n",
       "      <td>-0.882837</td>\n",
       "      <td>2.477133</td>\n",
       "      <td>1.792756</td>\n",
       "      <td>0.474134</td>\n",
       "      <td>0.779400</td>\n",
       "      <td>1.0</td>\n",
       "    </tr>\n",
       "    <tr>\n",
       "      <td>4</td>\n",
       "      <td>-1.402458</td>\n",
       "      <td>-1.123440</td>\n",
       "      <td>0.638366</td>\n",
       "      <td>1.311758</td>\n",
       "      <td>1.966887</td>\n",
       "      <td>1.262116</td>\n",
       "      <td>0.407512</td>\n",
       "      <td>1.720710</td>\n",
       "      <td>1.0</td>\n",
       "    </tr>\n",
       "  </tbody>\n",
       "</table>\n",
       "</div>"
      ],
      "text/plain": [
       "          0         1         2         3         4         5         6  \\\n",
       "0 -1.485656 -1.253287  1.308572  0.757630  2.207173  1.570728  1.712362   \n",
       "1  0.287003  0.306455  0.665309 -0.449945  0.082371  0.093915  0.442637   \n",
       "2 -0.404079 -0.423838 -0.287798  0.373370  0.163280  0.179638  0.082827   \n",
       "3  1.573891  1.338938 -0.688574 -0.882837  2.477133  1.792756  0.474134   \n",
       "4 -1.402458 -1.123440  0.638366  1.311758  1.966887  1.262116  0.407512   \n",
       "\n",
       "          7    8  \n",
       "0  0.574003  1.0  \n",
       "1  0.202451  1.0  \n",
       "2  0.139405  1.0  \n",
       "3  0.779400  1.0  \n",
       "4  1.720710  1.0  "
      ]
     },
     "execution_count": 37,
     "metadata": {},
     "output_type": "execute_result"
    }
   ],
   "source": [
    "df = pd.DataFrame(X_train)\n",
    "df.head()"
   ]
  },
  {
   "cell_type": "code",
   "execution_count": 38,
   "metadata": {},
   "outputs": [],
   "source": [
    "def step_gradient(X_train, Y_train, learning_rate, m,j):\n",
    "    m_j = 0\n",
    "    n_data_pts = X_train.shape[0]\n",
    "    N = len(m)\n",
    "    for i in range(n_data_pts):\n",
    "        x_i = X_train[i, :]\n",
    "        y_i = Y_train[i]\n",
    "        temp_sum = 0\n",
    "        for k in range(N):\n",
    "            temp_sum += m[k]*x_i[k]\n",
    "        temp_sum = y_i - temp_sum\n",
    "        ## complete formula\n",
    "        m_j += (-2/n_data_pts) * (temp_sum) * x_i[j]\n",
    "    # update m[j] and return\n",
    "    m[j] = m[j] - (learning_rate*m_j)\n",
    "    return m[j]"
   ]
  },
  {
   "cell_type": "code",
   "execution_count": 39,
   "metadata": {},
   "outputs": [],
   "source": [
    "\n",
    "def gradient_descent(X_train, Y_train, learning_rate, num_iterations):\n",
    "    m = [0]*(X_train.shape[1])\n",
    "    m[-1] = 1 #c\n",
    "    N = len(m)\n",
    "    for i in range(num_iterations):\n",
    "        for j in range(N):\n",
    "            m[j] = step_gradient(X_train, Y_train, learning_rate, m,j)\n",
    "        a = cost(X_train, Y_train, m)\n",
    "        if (i%10==0) or (i ==(num_iterations-1)):\n",
    "            print(\"iteration\",i,\" cost:\",a)\n",
    "    return m"
   ]
  },
  {
   "cell_type": "code",
   "execution_count": 40,
   "metadata": {},
   "outputs": [],
   "source": [
    "def cost(X_train, Y_train, m):\n",
    "    cost = 0\n",
    "    n_data_pts = len(X_train)\n",
    "    N = len(m)\n",
    "    for i in range(n_data_pts):\n",
    "        x_i = X_train[i, :]\n",
    "        y_i = Y_train[i]\n",
    "        temp_sum = 0\n",
    "        for k in range(N):\n",
    "            temp_sum += m[k]*x_i[k]\n",
    "        temp_sum = y_i - temp_sum\n",
    "        cost += (1/n_data_pts) * ((temp_sum)**2)\n",
    "    return cost"
   ]
  },
  {
   "cell_type": "code",
   "execution_count": 41,
   "metadata": {},
   "outputs": [],
   "source": [
    "def predict(X_test, m):\n",
    "    n_fts = X_train.shape[1]\n",
    "    n_m = np.array(m).reshape(n_fts, 1)\n",
    "    return np.dot(X_test, n_m)"
   ]
  },
  {
   "cell_type": "code",
   "execution_count": 42,
   "metadata": {},
   "outputs": [],
   "source": [
    "df_test = pd.DataFrame(X_test)"
   ]
  },
  {
   "cell_type": "code",
   "execution_count": 48,
   "metadata": {},
   "outputs": [],
   "source": [
    "def run():\n",
    "    num_iterations = 1200\n",
    "    learning_rate = 0.1\n",
    "    m = gradient_descent(X_train, Y_train, learning_rate, num_iterations)\n",
    "    print(m)\n",
    "    Y_pred = predict(X_test, m)\n",
    "    np.savetxt('ccpp_prediction_1.csv', Y_pred, fmt='%.5f', delimiter=',')"
   ]
  },
  {
   "cell_type": "code",
   "execution_count": 49,
   "metadata": {},
   "outputs": [
    {
     "name": "stdout",
     "output_type": "stream",
     "text": [
      "iteration 0  cost: 52315.54312709577\n",
      "iteration 10  cost: 14576.587286369419\n",
      "iteration 20  cost: 5557.305749012124\n",
      "iteration 30  cost: 2352.8383499761667\n",
      "iteration 40  cost: 1070.5671542507635\n",
      "iteration 50  cost: 526.0764357226037\n",
      "iteration 60  cost: 282.4889985999844\n",
      "iteration 70  cost: 166.57426240175104\n",
      "iteration 80  cost: 107.24967780160212\n",
      "iteration 90  cost: 74.4833146784253\n",
      "iteration 100  cost: 55.09299258334312\n",
      "iteration 110  cost: 42.975631263683304\n",
      "iteration 120  cost: 35.1057480674488\n",
      "iteration 130  cost: 29.86426919037121\n",
      "iteration 140  cost: 26.31859187769264\n",
      "iteration 150  cost: 23.897630025614376\n",
      "iteration 160  cost: 22.23557388939203\n",
      "iteration 170  cost: 21.090920067813666\n",
      "iteration 180  cost: 20.301169958296846\n",
      "iteration 190  cost: 19.75571999576615\n",
      "iteration 200  cost: 19.378776577609813\n",
      "iteration 210  cost: 19.118195575123313\n",
      "iteration 220  cost: 18.93802179150347\n",
      "iteration 230  cost: 18.813430739823136\n",
      "iteration 240  cost: 18.727270247477147\n",
      "iteration 250  cost: 18.667684271958016\n",
      "iteration 260  cost: 18.62647565787753\n",
      "iteration 270  cost: 18.59797621357103\n",
      "iteration 280  cost: 18.578266188883024\n",
      "iteration 290  cost: 18.564634828217418\n",
      "iteration 300  cost: 18.555207429085794\n",
      "iteration 310  cost: 18.548687469697345\n",
      "iteration 320  cost: 18.544178285039617\n",
      "iteration 330  cost: 18.54105974593407\n",
      "iteration 340  cost: 18.53890297328126\n",
      "iteration 350  cost: 18.53741135559757\n",
      "iteration 360  cost: 18.536379757211655\n",
      "iteration 370  cost: 18.535666306854242\n",
      "iteration 380  cost: 18.53517288674675\n",
      "iteration 390  cost: 18.534831638908845\n",
      "iteration 400  cost: 18.534595632955718\n",
      "iteration 410  cost: 18.53443241197018\n",
      "iteration 420  cost: 18.534319528845113\n",
      "iteration 430  cost: 18.53424145922901\n",
      "iteration 440  cost: 18.534187466527296\n",
      "iteration 450  cost: 18.534150125344556\n",
      "iteration 460  cost: 18.53412430030019\n",
      "iteration 470  cost: 18.534106439781006\n",
      "iteration 480  cost: 18.534094087502144\n",
      "iteration 490  cost: 18.534085544705206\n",
      "iteration 500  cost: 18.534079636533846\n",
      "iteration 510  cost: 18.534075550461186\n",
      "iteration 520  cost: 18.53407272454632\n",
      "iteration 530  cost: 18.534070770152418\n",
      "iteration 540  cost: 18.534069418499875\n",
      "iteration 550  cost: 18.534068483701315\n",
      "iteration 560  cost: 18.53406783719744\n",
      "iteration 570  cost: 18.53406739007741\n",
      "iteration 580  cost: 18.534067080850747\n",
      "iteration 590  cost: 18.53406686699055\n",
      "iteration 600  cost: 18.534066719085377\n",
      "iteration 610  cost: 18.53406661679472\n",
      "iteration 620  cost: 18.53406654605075\n",
      "iteration 630  cost: 18.53406649712453\n",
      "iteration 640  cost: 18.53406646328722\n",
      "iteration 650  cost: 18.534066439885542\n",
      "iteration 660  cost: 18.534066423701038\n",
      "iteration 670  cost: 18.53406641250772\n",
      "iteration 680  cost: 18.53406640476659\n",
      "iteration 690  cost: 18.534066399412783\n",
      "iteration 700  cost: 18.534066395710195\n",
      "iteration 710  cost: 18.534066393149498\n",
      "iteration 720  cost: 18.534066391378516\n",
      "iteration 730  cost: 18.53406639015362\n",
      "iteration 740  cost: 18.5340663893066\n",
      "iteration 750  cost: 18.534066388720632\n",
      "iteration 760  cost: 18.53406638831565\n",
      "iteration 770  cost: 18.534066388035335\n",
      "iteration 780  cost: 18.534066387841488\n",
      "iteration 790  cost: 18.534066387707483\n",
      "iteration 800  cost: 18.53406638761487\n",
      "iteration 810  cost: 18.534066387550634\n",
      "iteration 820  cost: 18.534066387506382\n",
      "iteration 830  cost: 18.534066387475725\n",
      "iteration 840  cost: 18.53406638745449\n",
      "iteration 850  cost: 18.534066387439815\n",
      "iteration 860  cost: 18.53406638742969\n",
      "iteration 870  cost: 18.534066387422648\n",
      "iteration 880  cost: 18.534066387417827\n",
      "iteration 890  cost: 18.53406638741446\n",
      "iteration 900  cost: 18.5340663874121\n",
      "iteration 910  cost: 18.534066387410512\n",
      "iteration 920  cost: 18.53406638740941\n",
      "iteration 930  cost: 18.534066387408664\n",
      "iteration 940  cost: 18.534066387408075\n",
      "iteration 950  cost: 18.5340663874077\n",
      "iteration 960  cost: 18.534066387407492\n",
      "iteration 970  cost: 18.534066387407375\n",
      "iteration 980  cost: 18.534066387407282\n",
      "iteration 990  cost: 18.53406638740711\n",
      "iteration 1000  cost: 18.53406638740709\n",
      "iteration 1010  cost: 18.534066387406988\n",
      "iteration 1020  cost: 18.53406638740701\n",
      "iteration 1030  cost: 18.53406638740689\n",
      "iteration 1040  cost: 18.534066387407016\n",
      "iteration 1050  cost: 18.534066387406973\n",
      "iteration 1060  cost: 18.534066387407034\n",
      "iteration 1070  cost: 18.53406638740697\n",
      "iteration 1080  cost: 18.534066387406924\n",
      "iteration 1090  cost: 18.534066387406988\n",
      "iteration 1100  cost: 18.53406638740694\n",
      "iteration 1110  cost: 18.53406638740696\n",
      "iteration 1120  cost: 18.534066387406888\n",
      "iteration 1130  cost: 18.53406638740687\n",
      "iteration 1140  cost: 18.534066387406927\n",
      "iteration 1150  cost: 18.534066387406913\n",
      "iteration 1160  cost: 18.534066387406988\n",
      "iteration 1170  cost: 18.534066387406988\n",
      "iteration 1180  cost: 18.534066387406952\n",
      "iteration 1190  cost: 18.5340663874069\n",
      "iteration 1199  cost: 18.534066387406952\n",
      "[-13.527590843433961, -3.7407578180795777, 0.6586648162860419, -1.723595620581651, 1.639963841459531, 0.20236814528260097, -0.3893644730392259, -0.10730795957263306, 453.0294140553219]\n"
     ]
    }
   ],
   "source": [
    "run()"
   ]
  },
  {
   "cell_type": "code",
   "execution_count": 10,
   "metadata": {},
   "outputs": [
    {
     "data": {
      "text/plain": [
       "array([1, 2, 3])"
      ]
     },
     "execution_count": 10,
     "metadata": {},
     "output_type": "execute_result"
    }
   ],
   "source": [
    "a=np.array([1,2,3])\n",
    "a"
   ]
  },
  {
   "cell_type": "code",
   "execution_count": 11,
   "metadata": {},
   "outputs": [
    {
     "data": {
      "text/plain": [
       "array([1, 2])"
      ]
     },
     "execution_count": 11,
     "metadata": {},
     "output_type": "execute_result"
    }
   ],
   "source": [
    "a = np.array([1,2])\n",
    "a"
   ]
  },
  {
   "cell_type": "code",
   "execution_count": null,
   "metadata": {},
   "outputs": [],
   "source": []
  }
 ],
 "metadata": {
  "kernelspec": {
   "display_name": "Python 3",
   "language": "python",
   "name": "python3"
  },
  "language_info": {
   "codemirror_mode": {
    "name": "ipython",
    "version": 3
   },
   "file_extension": ".py",
   "mimetype": "text/x-python",
   "name": "python",
   "nbconvert_exporter": "python",
   "pygments_lexer": "ipython3",
   "version": "3.7.4"
  }
 },
 "nbformat": 4,
 "nbformat_minor": 2
}
